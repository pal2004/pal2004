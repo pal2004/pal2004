{
  "nbformat": 4,
  "nbformat_minor": 0,
  "metadata": {
    "colab": {
      "provenance": [],
      "authorship_tag": "ABX9TyPFfMWfJN4tzdUqjwQmIKBP",
      "include_colab_link": true
    },
    "kernelspec": {
      "name": "python3",
      "display_name": "Python 3"
    },
    "language_info": {
      "name": "python"
    }
  },
  "cells": [
    {
      "cell_type": "markdown",
      "metadata": {
        "id": "view-in-github",
        "colab_type": "text"
      },
      "source": [
        "<a href=\"https://colab.research.google.com/github/pal2004/pal2004/blob/main/BuildingALinearRegression.ipynb\" target=\"_parent\"><img src=\"https://colab.research.google.com/assets/colab-badge.svg\" alt=\"Open In Colab\"/></a>"
      ]
    },
    {
      "cell_type": "markdown",
      "source": [
        "##Linear Regression\n",
        "Y=wX+b\n",
        "\n",
        "Y-->Dependent Variable\n",
        "\n",
        "X-->Independent Variable\n",
        "\n",
        "w-->weight\n",
        "\n",
        "b-->bias\n",
        "\n",
        "\n",
        "##Gradient Descent:\n",
        "Gradent Descent is an optimization algorithm used for minimizing the loss function in various machine learning algorithms. Used for updating the parameters of the learning algorithm\n",
        "w=w-a*dw\n",
        "b=b-a*db\n",
        "##Learning Algorithm\n",
        "Learning rate is a tuning parameter in an optimization algorithm that determines the step size at each iteration while moving toward a minimum of a loss function.\n"
      ],
      "metadata": {
        "id": "LRzCfq0AOEBN"
      }
    },
    {
      "cell_type": "code",
      "execution_count": 4,
      "metadata": {
        "id": "ZKQmmKxyL-Fl"
      },
      "outputs": [],
      "source": [
        "import numpy as np\n",
        "import pandas as pd"
      ]
    },
    {
      "cell_type": "markdown",
      "source": [
        "**Linear Regression**"
      ],
      "metadata": {
        "id": "pavkYpu7Y9-W"
      }
    },
    {
      "cell_type": "code",
      "source": [
        "class Linear_Regression():\n",
        "  #initiating a parameter\n",
        "  def __init__(self,learning_rate,no_of_iterations):\n",
        "    self.learning_rate\n",
        "    self.no_of_iterations\n",
        "\n",
        "\n",
        "\n",
        "  def fit(self,X,Y):\n",
        "#number of training examples & number of features\n",
        "   self.m,self.n=X.shape\n",
        "   #number of rows and columns\n",
        "\n",
        "   #initiating the weights and bias\n",
        "   self.w=np.zeros(self.n)\n",
        "   self.b=0\n",
        "   self.X=X\n",
        "   self.Y=Y\n",
        "\n",
        "   #implementing Gradient Descent\n",
        "   for i in range(self.no_of_iterations):\n",
        "    self.update_weight()\n",
        "\n",
        "\n",
        "  def update_weight(self):\n",
        "    Y_prediction=self.predict(self.X)\n",
        "\n",
        "    #calculate gradients\n",
        "    dw=- (2*(self.X.T).dot(self.Y-Y_prediction))/self.m\n",
        "    db=- 2 *np.sum(self.Y - Y_prediction)/self.m\n",
        "\n",
        "    #updating the weights\n",
        "    self.w=self.w-learning_rate*dw\n",
        "    self.b=selb.b*learning_rate*db\n",
        "\n",
        "\n",
        "  def predict(self,X):\n",
        "    return X.dot(self.w)+ self.b\n"
      ],
      "metadata": {
        "id": "u1157ToAY8X2"
      },
      "execution_count": 9,
      "outputs": []
    },
    {
      "cell_type": "code",
      "source": [
        "df=pd.read_csv('/content/salary_data.csv')\n",
        "df.shape"
      ],
      "metadata": {
        "colab": {
          "base_uri": "https://localhost:8080/"
        },
        "id": "XNmqXW9kfO4i",
        "outputId": "812a625b-76a0-43d3-fc49-e8255c46a8c0"
      },
      "execution_count": 5,
      "outputs": [
        {
          "output_type": "execute_result",
          "data": {
            "text/plain": [
              "(30, 2)"
            ]
          },
          "metadata": {},
          "execution_count": 5
        }
      ]
    },
    {
      "cell_type": "code",
      "source": [
        "from sklearn.linear_model import LogisticRegression\n",
        "model=LogisticRegression"
      ],
      "metadata": {
        "id": "6H98zDC6Z-eL"
      },
      "execution_count": 3,
      "outputs": []
    },
    {
      "cell_type": "code",
      "source": [
        "model=Linear_Regression()"
      ],
      "metadata": {
        "id": "Vexif7mLZdfL"
      },
      "execution_count": null,
      "outputs": []
    }
  ]
}